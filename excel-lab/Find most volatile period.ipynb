{
 "cells": [
  {
   "cell_type": "code",
   "execution_count": 8,
   "metadata": {},
   "outputs": [],
   "source": [
    "%matplotlib inline\n",
    "import pandas as pd\n",
    "df = pd.read_csv('raw-data/shares.csv', delimiter = ',')"
   ]
  },
  {
   "cell_type": "code",
   "execution_count": 9,
   "metadata": {},
   "outputs": [
    {
     "data": {
      "text/html": [
       "<div>\n",
       "<style scoped>\n",
       "    .dataframe tbody tr th:only-of-type {\n",
       "        vertical-align: middle;\n",
       "    }\n",
       "\n",
       "    .dataframe tbody tr th {\n",
       "        vertical-align: top;\n",
       "    }\n",
       "\n",
       "    .dataframe thead th {\n",
       "        text-align: right;\n",
       "    }\n",
       "</style>\n",
       "<table border=\"1\" class=\"dataframe\">\n",
       "  <thead>\n",
       "    <tr style=\"text-align: right;\">\n",
       "      <th></th>\n",
       "      <th>Date</th>\n",
       "      <th>APPL</th>\n",
       "      <th>GOOG</th>\n",
       "      <th>IBM</th>\n",
       "      <th>MSFT</th>\n",
       "      <th>NVDA</th>\n",
       "      <th>BCS</th>\n",
       "      <th>LYG</th>\n",
       "      <th>HSBC</th>\n",
       "      <th>BAC</th>\n",
       "      <th>ORCL</th>\n",
       "      <th>VOD</th>\n",
       "      <th>CS</th>\n",
       "      <th>BP</th>\n",
       "    </tr>\n",
       "  </thead>\n",
       "  <tbody>\n",
       "    <tr>\n",
       "      <th>0</th>\n",
       "      <td>26/06/2006</td>\n",
       "      <td>8.427143</td>\n",
       "      <td>200.803970</td>\n",
       "      <td>77.150002</td>\n",
       "      <td>22.820000</td>\n",
       "      <td>13.413333</td>\n",
       "      <td>40.672810</td>\n",
       "      <td>38.400002</td>\n",
       "      <td>86.320000</td>\n",
       "      <td>47.459999</td>\n",
       "      <td>14.67</td>\n",
       "      <td>24.616282</td>\n",
       "      <td>52.519531</td>\n",
       "      <td>67.470001</td>\n",
       "    </tr>\n",
       "    <tr>\n",
       "      <th>1</th>\n",
       "      <td>27/06/2006</td>\n",
       "      <td>8.204286</td>\n",
       "      <td>199.860107</td>\n",
       "      <td>76.629997</td>\n",
       "      <td>22.860001</td>\n",
       "      <td>12.986667</td>\n",
       "      <td>39.898617</td>\n",
       "      <td>37.880001</td>\n",
       "      <td>85.489998</td>\n",
       "      <td>47.299999</td>\n",
       "      <td>14.50</td>\n",
       "      <td>23.952236</td>\n",
       "      <td>51.132813</td>\n",
       "      <td>66.959999</td>\n",
       "    </tr>\n",
       "    <tr>\n",
       "      <th>2</th>\n",
       "      <td>28/06/2006</td>\n",
       "      <td>8.002857</td>\n",
       "      <td>201.742859</td>\n",
       "      <td>76.559998</td>\n",
       "      <td>23.160000</td>\n",
       "      <td>13.706667</td>\n",
       "      <td>40.368664</td>\n",
       "      <td>38.000000</td>\n",
       "      <td>85.680000</td>\n",
       "      <td>47.650002</td>\n",
       "      <td>14.58</td>\n",
       "      <td>24.033785</td>\n",
       "      <td>51.582031</td>\n",
       "      <td>67.970001</td>\n",
       "    </tr>\n",
       "    <tr>\n",
       "      <th>3</th>\n",
       "      <td>29/06/2006</td>\n",
       "      <td>8.424286</td>\n",
       "      <td>207.555054</td>\n",
       "      <td>77.589996</td>\n",
       "      <td>23.469999</td>\n",
       "      <td>14.326667</td>\n",
       "      <td>41.953918</td>\n",
       "      <td>39.410000</td>\n",
       "      <td>87.550003</td>\n",
       "      <td>48.599998</td>\n",
       "      <td>14.74</td>\n",
       "      <td>24.744431</td>\n",
       "      <td>53.798828</td>\n",
       "      <td>69.250000</td>\n",
       "    </tr>\n",
       "    <tr>\n",
       "      <th>4</th>\n",
       "      <td>30/06/2006</td>\n",
       "      <td>8.181429</td>\n",
       "      <td>208.310150</td>\n",
       "      <td>76.820000</td>\n",
       "      <td>23.299999</td>\n",
       "      <td>14.193334</td>\n",
       "      <td>42.193550</td>\n",
       "      <td>39.470001</td>\n",
       "      <td>88.349998</td>\n",
       "      <td>48.099998</td>\n",
       "      <td>14.49</td>\n",
       "      <td>24.814329</td>\n",
       "      <td>54.677734</td>\n",
       "      <td>69.610001</td>\n",
       "    </tr>\n",
       "  </tbody>\n",
       "</table>\n",
       "</div>"
      ],
      "text/plain": [
       "         Date      APPL        GOOG        IBM       MSFT       NVDA  \\\n",
       "0  26/06/2006  8.427143  200.803970  77.150002  22.820000  13.413333   \n",
       "1  27/06/2006  8.204286  199.860107  76.629997  22.860001  12.986667   \n",
       "2  28/06/2006  8.002857  201.742859  76.559998  23.160000  13.706667   \n",
       "3  29/06/2006  8.424286  207.555054  77.589996  23.469999  14.326667   \n",
       "4  30/06/2006  8.181429  208.310150  76.820000  23.299999  14.193334   \n",
       "\n",
       "         BCS        LYG       HSBC        BAC   ORCL        VOD         CS  \\\n",
       "0  40.672810  38.400002  86.320000  47.459999  14.67  24.616282  52.519531   \n",
       "1  39.898617  37.880001  85.489998  47.299999  14.50  23.952236  51.132813   \n",
       "2  40.368664  38.000000  85.680000  47.650002  14.58  24.033785  51.582031   \n",
       "3  41.953918  39.410000  87.550003  48.599998  14.74  24.744431  53.798828   \n",
       "4  42.193550  39.470001  88.349998  48.099998  14.49  24.814329  54.677734   \n",
       "\n",
       "          BP  \n",
       "0  67.470001  \n",
       "1  66.959999  \n",
       "2  67.970001  \n",
       "3  69.250000  \n",
       "4  69.610001  "
      ]
     },
     "execution_count": 9,
     "metadata": {},
     "output_type": "execute_result"
    }
   ],
   "source": [
    "df.head()"
   ]
  },
  {
   "cell_type": "code",
   "execution_count": 10,
   "metadata": {},
   "outputs": [],
   "source": [
    "period = 100\n",
    "sec='LYG'\n",
    "df['dailychange%'] = (df[sec]-df[sec].shift(1))/df[sec].shift(1)*100"
   ]
  },
  {
   "cell_type": "code",
   "execution_count": 11,
   "metadata": {},
   "outputs": [],
   "source": [
    "dfv = df['dailychange%'].rolling(period, win_type ='triang').sum() "
   ]
  },
  {
   "cell_type": "code",
   "execution_count": 12,
   "metadata": {},
   "outputs": [],
   "source": [
    "maxIndex = dfv.idxmax(axis = 1, skipna = True)"
   ]
  },
  {
   "cell_type": "code",
   "execution_count": 13,
   "metadata": {},
   "outputs": [],
   "source": [
    "toDate = df.iloc[maxIndex,0]\n",
    "fromDate = df.iloc[maxIndex-period,0]"
   ]
  },
  {
   "cell_type": "code",
   "execution_count": 14,
   "metadata": {},
   "outputs": [
    {
     "name": "stdout",
     "output_type": "stream",
     "text": [
      "Most volatile 100d period is from: 16/01/2009 to: 11/06/2009\n"
     ]
    }
   ],
   "source": [
    "print('Most volatile ' + str(period)+'d period is from: ' + str(fromDate) + ' to: '+ str(toDate))"
   ]
  },
  {
   "cell_type": "code",
   "execution_count": null,
   "metadata": {},
   "outputs": [],
   "source": [
    "import seaborn as sns\n",
    "import matplotlib.pyplot as plt\n",
    "sns.set(style='ticks', context='talk')\n",
    "\n",
    "df['dailychange%'].plot(figsize=(15,5), label='Raw')\n",
    "df['dailychange%'].rolling(period).mean().plot(label=str(period) +'D MA')\n",
    "df['dailychange%'].expanding().mean().plot(label='Expanding Average')\n",
    "df['dailychange%'].ewm(alpha=0.03).mean().plot(label='EWMA($\\\\alpha=.03$)')\n",
    "\n",
    "plt.legend(bbox_to_anchor=(1.25, .5))\n",
    "plt.tight_layout()\n",
    "plt.ylabel(\"Close ($)\")\n",
    "sns.despine()\n"
   ]
  },
  {
   "cell_type": "code",
   "execution_count": null,
   "metadata": {},
   "outputs": [],
   "source": []
  }
 ],
 "metadata": {
  "kernelspec": {
   "display_name": "Python 3",
   "language": "python",
   "name": "python3"
  },
  "language_info": {
   "codemirror_mode": {
    "name": "ipython",
    "version": 3
   },
   "file_extension": ".py",
   "mimetype": "text/x-python",
   "name": "python",
   "nbconvert_exporter": "python",
   "pygments_lexer": "ipython3",
   "version": "3.6.5"
  }
 },
 "nbformat": 4,
 "nbformat_minor": 2
}
