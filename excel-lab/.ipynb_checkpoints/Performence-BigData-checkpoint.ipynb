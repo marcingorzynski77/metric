{
 "cells": [
  {
   "cell_type": "code",
   "execution_count": 2,
   "metadata": {},
   "outputs": [],
   "source": [
    "import pandas as pd\n",
    "import numpy as np"
   ]
  },
  {
   "cell_type": "code",
   "execution_count": 3,
   "metadata": {},
   "outputs": [],
   "source": [
    "def make_categorical(df, col_name):\n",
    "    df.loc[:, col_name] = pd.Categorical(df[col_name]) "
   ]
  },
  {
   "cell_type": "code",
   "execution_count": 4,
   "metadata": {},
   "outputs": [],
   "source": [
    "def mem_mib(df):\n",
    "    print(\"{0:.2f} MiB\".format(\n",
    "        df.memory_usage().sum() / (1024 * 1024)\n",
    "    ))"
   ]
  },
  {
   "cell_type": "code",
   "execution_count": 5,
   "metadata": {},
   "outputs": [],
   "source": [
    "list_of_dataframes = []\n",
    "df1 = pd.read_csv('raw-data/sensitivities_1.csv', delimiter = ',', chunksize=100000)\n",
    "instrumentTenorsAll = {}\n",
    "for chunk in df1:\n",
    "    columns_to_keep = [\"ProformaShiftValue\", \"PartyName\", \"CLMS ID\", \"InstrumentTenor\", \"RiskMeasureType\",\"UnderlyingTenor\"]\n",
    "    df_quick = chunk.filter(columns_to_keep)\n",
    "    make_categorical(df_quick, \"PartyName\")\n",
    "    make_categorical(df_quick, \"InstrumentTenor\")\n",
    "    make_categorical(df_quick, \"RiskMeasureType\")\n",
    "    make_categorical(df_quick, \"UnderlyingTenor\")\n",
    "    instrumentTenors = pd.Categorical(df_quick[\"InstrumentTenor\"])\n",
    "    instrumentTenorsDict = dict(enumerate(instrumentTenors.categories))\n",
    "    instrumentTenorsAll = {**instrumentTenorsAll, **instrumentTenorsDict}\n",
    "    filtered = df_quick.loc[lambda x: (x.InstrumentTenor == '1M') | (x.InstrumentTenor == '2M')]\n",
    "    list_of_dataframes.append(filtered)\n",
    "    \n",
    "df_final = pd.concat(list_of_dataframes)"
   ]
  },
  {
   "cell_type": "code",
   "execution_count": 6,
   "metadata": {},
   "outputs": [
    {
     "data": {
      "text/plain": [
       "{0: '10Y',\n",
       " 1: '12M',\n",
       " 2: '15Y',\n",
       " 3: '1D',\n",
       " 4: '1M',\n",
       " 5: '1W',\n",
       " 6: '1Y',\n",
       " 7: '20Y',\n",
       " 8: '25Y',\n",
       " 9: '2M',\n",
       " 10: '2Y',\n",
       " 11: '3M',\n",
       " 12: '5Y',\n",
       " 13: '6M'}"
      ]
     },
     "execution_count": 6,
     "metadata": {},
     "output_type": "execute_result"
    }
   ],
   "source": [
    "instrumentTenorsAll"
   ]
  },
  {
   "cell_type": "code",
   "execution_count": 7,
   "metadata": {},
   "outputs": [
    {
     "name": "stdout",
     "output_type": "stream",
     "text": [
      "<class 'pandas.core.frame.DataFrame'>\n",
      "Int64Index: 19 entries, 2 to 99\n",
      "Data columns (total 6 columns):\n",
      "ProformaShiftValue    19 non-null float64\n",
      "PartyName             19 non-null category\n",
      "CLMS ID               19 non-null int64\n",
      "InstrumentTenor       19 non-null category\n",
      "RiskMeasureType       19 non-null category\n",
      "UnderlyingTenor       19 non-null category\n",
      "dtypes: category(4), float64(1), int64(1)\n",
      "memory usage: 7.9 KB\n"
     ]
    }
   ],
   "source": [
    "df_final.info()"
   ]
  },
  {
   "cell_type": "code",
   "execution_count": 8,
   "metadata": {},
   "outputs": [],
   "source": [
    "#df_final.info(memory_usage='deep')"
   ]
  },
  {
   "cell_type": "code",
   "execution_count": 22,
   "metadata": {},
   "outputs": [
    {
     "data": {
      "text/plain": [
       "19"
      ]
     },
     "execution_count": 22,
     "metadata": {},
     "output_type": "execute_result"
    }
   ],
   "source": [
    "df_final.shape[0]"
   ]
  },
  {
   "cell_type": "code",
   "execution_count": 10,
   "metadata": {},
   "outputs": [],
   "source": [
    "exp = pd.DataFrame(instrumentTenorsAll.values())"
   ]
  },
  {
   "cell_type": "code",
   "execution_count": 21,
   "metadata": {},
   "outputs": [
    {
     "data": {
      "text/plain": [
       "dict_values(['10Y', '12M', '15Y', '1D', '1M', '1W', '1Y', '20Y', '25Y', '2M', '2Y', '3M', '5Y', '6M'])"
      ]
     },
     "execution_count": 21,
     "metadata": {},
     "output_type": "execute_result"
    }
   ],
   "source": [
    "instrumentTenorsAll.values()"
   ]
  },
  {
   "cell_type": "code",
   "execution_count": null,
   "metadata": {},
   "outputs": [],
   "source": [
    "df_final.query(\"InstrumentTenor == 1M\")\n"
   ]
  }
 ],
 "metadata": {
  "kernelspec": {
   "display_name": "Python 3",
   "language": "python",
   "name": "python3"
  },
  "language_info": {
   "codemirror_mode": {
    "name": "ipython",
    "version": 3
   },
   "file_extension": ".py",
   "mimetype": "text/x-python",
   "name": "python",
   "nbconvert_exporter": "python",
   "pygments_lexer": "ipython3",
   "version": "3.6.5"
  }
 },
 "nbformat": 4,
 "nbformat_minor": 2
}
